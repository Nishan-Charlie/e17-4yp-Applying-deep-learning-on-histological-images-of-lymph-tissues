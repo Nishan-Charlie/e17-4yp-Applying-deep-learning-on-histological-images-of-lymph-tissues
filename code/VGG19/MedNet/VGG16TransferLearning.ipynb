{
 "cells": [
  {
   "cell_type": "code",
   "execution_count": null,
   "id": "3f5141d9-feb6-490e-b978-0edf0fe27a36",
   "metadata": {},
   "outputs": [],
   "source": [
    "import os\n",
    "os.environ['TF_ENABLE_ONEDNN_OPTS']='0'\n",
    "import glob\n",
    "import tensorflow as tf\n",
    "import tensorflow as tf\n",
    "from tensorflow.keras.applications import VGG16\n",
    "from tensorflow.keras.layers import Dense, Flatten\n",
    "from tensorflow.keras.models import Model\n",
    "from tensorflow.keras.optimizers import Adam\n",
    "from tensorflow.keras.preprocessing.image import ImageDataGenerator\n",
    "import shutil\n",
    "import random\n"
   ]
  },
  {
   "cell_type": "code",
   "execution_count": null,
   "id": "95567d48-7c7c-4be0-bad4-b40786279d5e",
   "metadata": {},
   "outputs": [],
   "source": [
    "gpus = tf.config.experimental.list_physical_devices('GPU')\n",
    "if gpus:\n",
    "    try:\n",
    "        # Currently, memory growth needs to be the same across GPUs\n",
    "        for gpu in gpus:\n",
    "            tf.config.experimental.set_memory_growth(gpu, True)\n",
    "        logical_gpus = tf.config.experimental.list_logical_devices('GPU')\n",
    "        print(len(gpus), \"Physical GPUs,\", len(logical_gpus), \"Logical GPUs\")\n",
    "    except RuntimeError as e:\n",
    "        # Memory growth must be set before GPUs have been initialized\n",
    "        print(e)\n"
   ]
  },
  {
   "cell_type": "code",
   "execution_count": null,
   "id": "c3df5716-38ed-4879-8c56-87988a45ae82",
   "metadata": {},
   "outputs": [],
   "source": [
    "# Define paths to your source folders and destination folders\n",
    "source_folder_0 = '/home/e17358/4yp/MedNET/dataset/Breast Histopathology Images new/0'\n",
    "source_folder_1 = '/home/e17358/4yp/MedNET/dataset/Breast Histopathology Images new/1'\n",
    "base_dest_folder = '/home/e17358/4yp/MedNET/dataset/Breast Histopathology Images new/'\n",
    "\n",
    "# Define the split ratios\n",
    "train_ratio = 0.7  # 70% of data for training\n",
    "valid_ratio = 0.15  # 15% of data for validation\n",
    "test_ratio = 0.15  # 15% of data for testing\n",
    "\n",
    "# Create destination folders if they don't exist\n",
    "os.makedirs(base_dest_folder, exist_ok=True)\n",
    "\n",
    "# List the images in the source folders\n",
    "images_0 = os.listdir(source_folder_0)\n",
    "images_1 = os.listdir(source_folder_1)\n",
    "\n",
    "# Shuffle the lists of images\n",
    "random.shuffle(images_0)\n",
    "random.shuffle(images_1)\n",
    "\n",
    "# Split the images and move them to the appropriate folders\n",
    "def move_images(images, dest_folder,source):\n",
    "    for image in images:\n",
    "        source_path = os.path.join(source, image)\n",
    "        if os.path.isdir(dest_folder) is False:\n",
    "            os.makedirs(dest_folder)\n",
    "        shutil.move(source_path, dest_folder)\n",
    "\n",
    "\n",
    "# Split and move images for class 0\n",
    "train_count = int(len(images_0) * train_ratio)\n",
    "valid_count = int(len(images_0) * valid_ratio)\n",
    "\n",
    "move_images(images_0[:train_count], os.path.join(base_dest_folder, 'train', '0'),source_folder_0)\n",
    "move_images(images_0[train_count:train_count + valid_count], os.path.join(base_dest_folder, 'valid', '0'),source_folder_0)\n",
    "move_images(images_0[train_count + valid_count:], os.path.join(base_dest_folder, 'test', '0'),source_folder_0)\n",
    "\n",
    "# Split and move images for class 1\n",
    "train_count = int(len(images_1) * train_ratio)\n",
    "valid_count = int(len(images_1) * valid_ratio)\n",
    "move_images(images_1[:train_count], os.path.join(base_dest_folder, 'train', '1'),source_folder_1)\n",
    "move_images(images_1[train_count:train_count + valid_count], os.path.join(base_dest_folder, 'valid', '1'),source_folder_1)\n",
    "move_images(images_1[train_count + valid_count:], os.path.join(base_dest_folder, 'test', '1'),source_folder_1)\n",
    "\n",
    "print(\"Data splitting and moving complete.\")\n"
   ]
  },
  {
   "cell_type": "code",
   "execution_count": null,
   "id": "e3658c27-def7-4faa-9fb4-779651f919ce",
   "metadata": {},
   "outputs": [],
   "source": [
    "# Load pre-trained VGG16 model without top layers\n",
    "base_model = VGG16(weights='imagenet', include_top=False, input_shape=(224, 224, 3))\n",
    "\n",
    "# Freeze layers in the base model\n",
    "for layer in base_model.layers:\n",
    "    layer.trainable = False\n",
    "\n",
    "# Add custom top layers\n",
    "x = base_model.output\n",
    "x = Flatten()(x)\n",
    "x = Dense(256, activation='relu')(x)\n",
    "x = Dense(128, activation='relu')(x)\n",
    "predictions = Dense(2, activation='softmax')(x)\n",
    "\n",
    "# Create the final model\n",
    "model = Model(inputs=base_model.input, outputs=predictions)\n",
    "\n",
    "# Compile the model\n",
    "model.compile(optimizer=Adam(learning_rate=0.001), loss='categorical_crossentropy', metrics=['accuracy'])\n",
    "\n",
    "# Data preprocessing and augmentation``\n",
    "datagen = ImageDataGenerator(rescale=1.0/255, shear_range=0.2, zoom_range=0.2, horizontal_flip=True)\n",
    "\n",
    "train_generator = datagen.flow_from_directory(\n",
    "    '/home/e17358/4yp/MedNET/dataset/Breast Histopathology Images new/train',\n",
    "    target_size=(224, 224),\n",
    "    batch_size=32,\n",
    "    class_mode='categorical'\n",
    ")\n",
    "\n",
    "valid_generator = datagen.flow_from_directory(\n",
    "    '/home/e17358/4yp/MedNET/dataset/Breast Histopathology Images new/valid',\n",
    "    target_size=(224, 224),\n",
    "    batch_size=32,\n",
    "    class_mode='categorical',\n",
    "    subset='validation'\n",
    ")\n"
   ]
  },
  {
   "cell_type": "code",
   "execution_count": null,
   "id": "93dabfb7-1ceb-4932-8d1a-0d9d1d4b5721",
   "metadata": {},
   "outputs": [],
   "source": [
    "# Fine-tune the model\n",
    "model.fit(train_generator, steps_per_epoch=len(train_generator), epochs=10, validation_data=valid_generator, validation_steps=len(valid_generator))"
   ]
  },
  {
   "cell_type": "code",
   "execution_count": null,
   "id": "553aa7be-28eb-412a-a6db-2ac96a01916d",
   "metadata": {},
   "outputs": [],
   "source": [
    "# Save the trained model\n",
    "model.save('medical_image_transfer_learning.h5')"
   ]
  },
  {
   "cell_type": "code",
   "execution_count": null,
   "id": "11fe5699-4a61-4113-9316-f9da540cdb08",
   "metadata": {},
   "outputs": [],
   "source": []
  }
 ],
 "metadata": {
  "kernelspec": {
   "display_name": "Python 3 (ipykernel)",
   "language": "python",
   "name": "python3"
  },
  "language_info": {
   "codemirror_mode": {
    "name": "ipython",
    "version": 3
   },
   "file_extension": ".py",
   "mimetype": "text/x-python",
   "name": "python",
   "nbconvert_exporter": "python",
   "pygments_lexer": "ipython3",
   "version": "3.11.4"
  }
 },
 "nbformat": 4,
 "nbformat_minor": 5
}
